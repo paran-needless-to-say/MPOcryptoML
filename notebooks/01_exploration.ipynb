{
  "cells": [
    {
      "cell_type": "markdown",
      "metadata": {},
      "source": [
        "# MPOCryptoML 데이터 탐색 및 전처리\n",
        "\n",
        "이 노트북은 캐글에서 다운로드한 데이터를 탐색하고 전처리하는 용도입니다.\n"
      ]
    },
    {
      "cell_type": "code",
      "execution_count": null,
      "metadata": {},
      "outputs": [],
      "source": [
        "import pandas as pd\n",
        "import numpy as np\n",
        "import matplotlib.pyplot as plt\n",
        "import seaborn as sns\n",
        "from pathlib import Path\n",
        "\n",
        "# 현재 디렉토리 설정\n",
        "import sys\n",
        "sys.path.append('../src')\n",
        "from preprocess import DataPreprocessor\n"
      ]
    },
    {
      "cell_type": "markdown",
      "metadata": {},
      "source": [
        "## 1. 데이터 로드\n"
      ]
    },
    {
      "cell_type": "code",
      "execution_count": null,
      "metadata": {},
      "outputs": [],
      "source": [
        "# 캐글에서 다운로드한 데이터 경로 설정\n",
        "# train_path = Path('../data/train.csv')\n",
        "# test_path = Path('../data/test.csv')\n",
        "\n",
        "# 데이터 로드\n",
        "# train_data = pd.read_csv(train_path)\n",
        "# test_data = pd.read_csv(test_path)\n"
      ]
    },
    {
      "cell_type": "markdown",
      "metadata": {},
      "source": [
        "## 2. 데이터 탐색\n"
      ]
    },
    {
      "cell_type": "code",
      "execution_count": null,
      "metadata": {},
      "outputs": [],
      "source": [
        "# 데이터 기본 정보\n",
        "# print(train_data.shape)\n",
        "# print(train_data.info())\n",
        "# print(train_data.head())\n"
      ]
    },
    {
      "cell_type": "markdown",
      "metadata": {},
      "source": [
        "## 3. 결측치 확인\n"
      ]
    },
    {
      "cell_type": "code",
      "execution_count": null,
      "metadata": {},
      "outputs": [],
      "source": [
        "# 결측치 확인\n",
        "# missing = train_data.isnull().sum()\n",
        "# print(missing[missing > 0])\n"
      ]
    },
    {
      "cell_type": "markdown",
      "metadata": {},
      "source": [
        "## 4. 전처리 수행\n"
      ]
    },
    {
      "cell_type": "code",
      "execution_count": null,
      "metadata": {},
      "outputs": [],
      "source": [
        "# 전처리 객체 생성\n",
        "preprocessor = DataPreprocessor()\n",
        "\n",
        "# 전처리 수행\n",
        "# processed_data = preprocessor.preprocess(train_data)\n",
        "\n",
        "# 전처리된 데이터 저장\n",
        "# preprocessor.save_processed_data(processed_data)\n"
      ]
    }
  ],
  "metadata": {
    "language_info": {
      "name": "python"
    }
  },
  "nbformat": 4,
  "nbformat_minor": 2
}
